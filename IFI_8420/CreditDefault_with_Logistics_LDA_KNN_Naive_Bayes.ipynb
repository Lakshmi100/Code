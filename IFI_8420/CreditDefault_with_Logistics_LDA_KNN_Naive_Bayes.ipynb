{
  "cells": [
    {
      "cell_type": "code",
      "execution_count": null,
      "id": "f5fce926",
      "metadata": {
        "id": "f5fce926"
      },
      "outputs": [],
      "source": [
        "%matplotlib inline\n",
        "import os\n",
        "import calendar\n",
        "from pathlib import Path\n",
        "import numpy as np\n",
        "import networkx as nx\n",
        "import pandas as pd\n",
        "from pandas.plotting import scatter_matrix, parallel_coordinates\n",
        "import seaborn as sns\n",
        "from sklearn import preprocessing\n",
        "import matplotlib.pylab as plt\n",
        "\n",
        "\n",
        "import statsmodels.formula.api as smf\n",
        "\n",
        "\n",
        "from sklearn.model_selection import train_test_split\n",
        "from sklearn.linear_model import LinearRegression\n",
        "from sklearn.linear_model import LogisticRegression\n",
        "from sklearn.metrics import confusion_matrix\n",
        "from sklearn import metrics"
      ]
    },
    {
      "cell_type": "code",
      "execution_count": null,
      "id": "847dac7b",
      "metadata": {
        "id": "847dac7b"
      },
      "outputs": [],
      "source": [
        "#read Default data\n",
        "Default = pd.read_csv('Default.csv')\n",
        "#housing_df = pd.read_csv('BostonHousing.csv')\n",
        "d2=Default"
      ]
    },
    {
      "cell_type": "code",
      "execution_count": null,
      "id": "202026ba",
      "metadata": {
        "id": "202026ba",
        "outputId": "468060c5-57b2-4b5a-88d1-2a69bb7d1955"
      },
      "outputs": [
        {
          "data": {
            "text/html": [
              "<div>\n",
              "<style scoped>\n",
              "    .dataframe tbody tr th:only-of-type {\n",
              "        vertical-align: middle;\n",
              "    }\n",
              "\n",
              "    .dataframe tbody tr th {\n",
              "        vertical-align: top;\n",
              "    }\n",
              "\n",
              "    .dataframe thead th {\n",
              "        text-align: right;\n",
              "    }\n",
              "</style>\n",
              "<table border=\"1\" class=\"dataframe\">\n",
              "  <thead>\n",
              "    <tr style=\"text-align: right;\">\n",
              "      <th></th>\n",
              "      <th>default</th>\n",
              "      <th>student</th>\n",
              "      <th>balance</th>\n",
              "      <th>income</th>\n",
              "      <th>student_No</th>\n",
              "      <th>student_Yes</th>\n",
              "    </tr>\n",
              "  </thead>\n",
              "  <tbody>\n",
              "    <tr>\n",
              "      <th>0</th>\n",
              "      <td>No</td>\n",
              "      <td>No</td>\n",
              "      <td>729.526495</td>\n",
              "      <td>44361.62507</td>\n",
              "      <td>1</td>\n",
              "      <td>0</td>\n",
              "    </tr>\n",
              "    <tr>\n",
              "      <th>1</th>\n",
              "      <td>No</td>\n",
              "      <td>Yes</td>\n",
              "      <td>817.180407</td>\n",
              "      <td>12106.13470</td>\n",
              "      <td>0</td>\n",
              "      <td>1</td>\n",
              "    </tr>\n",
              "    <tr>\n",
              "      <th>2</th>\n",
              "      <td>No</td>\n",
              "      <td>No</td>\n",
              "      <td>1073.549164</td>\n",
              "      <td>31767.13895</td>\n",
              "      <td>1</td>\n",
              "      <td>0</td>\n",
              "    </tr>\n",
              "    <tr>\n",
              "      <th>3</th>\n",
              "      <td>No</td>\n",
              "      <td>No</td>\n",
              "      <td>529.250605</td>\n",
              "      <td>35704.49394</td>\n",
              "      <td>1</td>\n",
              "      <td>0</td>\n",
              "    </tr>\n",
              "    <tr>\n",
              "      <th>4</th>\n",
              "      <td>No</td>\n",
              "      <td>No</td>\n",
              "      <td>785.655883</td>\n",
              "      <td>38463.49588</td>\n",
              "      <td>1</td>\n",
              "      <td>0</td>\n",
              "    </tr>\n",
              "  </tbody>\n",
              "</table>\n",
              "</div>"
            ],
            "text/plain": [
              "  default student      balance       income  student_No  student_Yes\n",
              "0      No      No   729.526495  44361.62507           1            0\n",
              "1      No     Yes   817.180407  12106.13470           0            1\n",
              "2      No      No  1073.549164  31767.13895           1            0\n",
              "3      No      No   529.250605  35704.49394           1            0\n",
              "4      No      No   785.655883  38463.49588           1            0"
            ]
          },
          "execution_count": 27,
          "metadata": {},
          "output_type": "execute_result"
        }
      ],
      "source": [
        "### WE want to keep the categorical variable and create a dummy variable for that in a seperate column ####\n",
        "\n",
        "student_dummy=pd.get_dummies(d2['student'])\n",
        "\n",
        "student_dummy.columns =['student_No', 'student_Yes']\n",
        "student_dummy.head()\n",
        "\n",
        "d3=pd.concat([d2,student_dummy], axis=1)\n",
        "d3.head()"
      ]
    },
    {
      "cell_type": "code",
      "execution_count": null,
      "id": "593af6d7",
      "metadata": {
        "id": "593af6d7",
        "outputId": "1bb25c5d-8885-48a5-9f3f-6931739029bb"
      },
      "outputs": [
        {
          "data": {
            "text/html": [
              "<div>\n",
              "<style scoped>\n",
              "    .dataframe tbody tr th:only-of-type {\n",
              "        vertical-align: middle;\n",
              "    }\n",
              "\n",
              "    .dataframe tbody tr th {\n",
              "        vertical-align: top;\n",
              "    }\n",
              "\n",
              "    .dataframe thead th {\n",
              "        text-align: right;\n",
              "    }\n",
              "</style>\n",
              "<table border=\"1\" class=\"dataframe\">\n",
              "  <thead>\n",
              "    <tr style=\"text-align: right;\">\n",
              "      <th></th>\n",
              "      <th>default</th>\n",
              "      <th>student</th>\n",
              "      <th>balance</th>\n",
              "      <th>income</th>\n",
              "      <th>student_No</th>\n",
              "      <th>student_Yes</th>\n",
              "      <th>default_No</th>\n",
              "      <th>default_Yes</th>\n",
              "    </tr>\n",
              "  </thead>\n",
              "  <tbody>\n",
              "    <tr>\n",
              "      <th>0</th>\n",
              "      <td>No</td>\n",
              "      <td>No</td>\n",
              "      <td>729.526495</td>\n",
              "      <td>44361.62507</td>\n",
              "      <td>1</td>\n",
              "      <td>0</td>\n",
              "      <td>1</td>\n",
              "      <td>0</td>\n",
              "    </tr>\n",
              "    <tr>\n",
              "      <th>1</th>\n",
              "      <td>No</td>\n",
              "      <td>Yes</td>\n",
              "      <td>817.180407</td>\n",
              "      <td>12106.13470</td>\n",
              "      <td>0</td>\n",
              "      <td>1</td>\n",
              "      <td>1</td>\n",
              "      <td>0</td>\n",
              "    </tr>\n",
              "    <tr>\n",
              "      <th>2</th>\n",
              "      <td>No</td>\n",
              "      <td>No</td>\n",
              "      <td>1073.549164</td>\n",
              "      <td>31767.13895</td>\n",
              "      <td>1</td>\n",
              "      <td>0</td>\n",
              "      <td>1</td>\n",
              "      <td>0</td>\n",
              "    </tr>\n",
              "    <tr>\n",
              "      <th>3</th>\n",
              "      <td>No</td>\n",
              "      <td>No</td>\n",
              "      <td>529.250605</td>\n",
              "      <td>35704.49394</td>\n",
              "      <td>1</td>\n",
              "      <td>0</td>\n",
              "      <td>1</td>\n",
              "      <td>0</td>\n",
              "    </tr>\n",
              "    <tr>\n",
              "      <th>4</th>\n",
              "      <td>No</td>\n",
              "      <td>No</td>\n",
              "      <td>785.655883</td>\n",
              "      <td>38463.49588</td>\n",
              "      <td>1</td>\n",
              "      <td>0</td>\n",
              "      <td>1</td>\n",
              "      <td>0</td>\n",
              "    </tr>\n",
              "  </tbody>\n",
              "</table>\n",
              "</div>"
            ],
            "text/plain": [
              "  default student      balance       income  student_No  student_Yes  \\\n",
              "0      No      No   729.526495  44361.62507           1            0   \n",
              "1      No     Yes   817.180407  12106.13470           0            1   \n",
              "2      No      No  1073.549164  31767.13895           1            0   \n",
              "3      No      No   529.250605  35704.49394           1            0   \n",
              "4      No      No   785.655883  38463.49588           1            0   \n",
              "\n",
              "   default_No  default_Yes  \n",
              "0           1            0  \n",
              "1           1            0  \n",
              "2           1            0  \n",
              "3           1            0  \n",
              "4           1            0  "
            ]
          },
          "execution_count": 28,
          "metadata": {},
          "output_type": "execute_result"
        }
      ],
      "source": [
        "### creating dummy variable for default ######################################\n",
        "\n",
        "default_dummy=pd.get_dummies(d2['default'])\n",
        "\n",
        "default_dummy.columns =['default_No', 'default_Yes']\n",
        "default_dummy.head()\n",
        "\n",
        "d4=pd.concat([d3,default_dummy], axis=1)\n",
        "d4.head()"
      ]
    },
    {
      "cell_type": "code",
      "execution_count": null,
      "id": "a4e6bea1",
      "metadata": {
        "id": "a4e6bea1",
        "outputId": "9be23420-d4e9-4b74-8d04-7881c5d0b8a4"
      },
      "outputs": [
        {
          "data": {
            "text/plain": [
              "(10000, 3)"
            ]
          },
          "execution_count": 29,
          "metadata": {},
          "output_type": "execute_result"
        }
      ],
      "source": [
        "\n",
        "X = d4[['balance', 'income', 'student_Yes']].values\n",
        "y = d4['default_Yes'].values.reshape(-1,1)\n",
        "\n",
        "#Prior to training our model, we’ll set aside a portion of our data in order to evaluate its performance.\n",
        "\n",
        "X_train, X_test, y_train, y_test = train_test_split(X, y, random_state=1)\n",
        "X.shape"
      ]
    },
    {
      "cell_type": "code",
      "execution_count": null,
      "id": "d6791e06",
      "metadata": {
        "id": "d6791e06",
        "outputId": "45f18f82-7218-4588-c88f-c31141fdc716"
      },
      "outputs": [
        {
          "data": {
            "text/plain": [
              "array([[7.80172569e+02, 5.16568741e+04, 0.00000000e+00],\n",
              "       [1.05137689e+03, 1.32714647e+04, 1.00000000e+00],\n",
              "       [1.40587665e+03, 2.70713225e+04, 1.00000000e+00],\n",
              "       ...,\n",
              "       [1.23447648e+03, 3.13133746e+04, 0.00000000e+00],\n",
              "       [0.00000000e+00, 2.93226314e+04, 0.00000000e+00],\n",
              "       [9.64820253e+02, 3.43907460e+04, 0.00000000e+00]])"
            ]
          },
          "execution_count": 30,
          "metadata": {},
          "output_type": "execute_result"
        }
      ],
      "source": [
        "X_train"
      ]
    },
    {
      "cell_type": "code",
      "execution_count": null,
      "id": "09e8db56",
      "metadata": {
        "id": "09e8db56",
        "outputId": "40907137-c47a-4d63-a778-ec1039a59298"
      },
      "outputs": [
        {
          "name": "stdout",
          "output_type": "stream",
          "text": [
            "LDA Accuracy: 0.9748\n",
            "LDA Classification Report:\n",
            "               precision    recall  f1-score   support\n",
            "\n",
            "           0       0.98      1.00      0.99      2421\n",
            "           1       0.79      0.28      0.41        79\n",
            "\n",
            "    accuracy                           0.97      2500\n",
            "   macro avg       0.88      0.64      0.70      2500\n",
            "weighted avg       0.97      0.97      0.97      2500\n",
            "\n"
          ]
        },
        {
          "name": "stderr",
          "output_type": "stream",
          "text": [
            "C:\\Users\\rashraf\\Anaconda3\\lib\\site-packages\\sklearn\\utils\\validation.py:63: DataConversionWarning: A column-vector y was passed when a 1d array was expected. Please change the shape of y to (n_samples, ), for example using ravel().\n",
            "  return f(*args, **kwargs)\n"
          ]
        }
      ],
      "source": [
        "from sklearn.discriminant_analysis import LinearDiscriminantAnalysis\n",
        "from sklearn.metrics import accuracy_score, classification_report\n",
        "\n",
        "# Train LDA model\n",
        "lda = LinearDiscriminantAnalysis()\n",
        "lda.fit(X_train, y_train)\n",
        "\n",
        "# Predict on test data\n",
        "y_pred_lda = lda.predict(X_test)\n",
        "\n",
        "# Evaluate performance\n",
        "lda_acc = accuracy_score(y_test, y_pred_lda)\n",
        "lda_report = classification_report(y_test, y_pred_lda)\n",
        "\n",
        "print(\"LDA Accuracy:\", lda_acc)\n",
        "print(\"LDA Classification Report:\\n\", lda_report)"
      ]
    },
    {
      "cell_type": "code",
      "execution_count": null,
      "id": "0a8edadd",
      "metadata": {
        "id": "0a8edadd",
        "outputId": "e56e60fc-e2c0-4ac8-90e5-722add5e1e35"
      },
      "outputs": [
        {
          "name": "stderr",
          "output_type": "stream",
          "text": [
            "C:\\Users\\rashraf\\Anaconda3\\lib\\site-packages\\sklearn\\utils\\validation.py:63: DataConversionWarning: A column-vector y was passed when a 1d array was expected. Please change the shape of y to (n_samples, ), for example using ravel().\n",
            "  return f(*args, **kwargs)\n"
          ]
        },
        {
          "data": {
            "text/plain": [
              "LogisticRegression()"
            ]
          },
          "execution_count": 32,
          "metadata": {},
          "output_type": "execute_result"
        }
      ],
      "source": [
        "from sklearn.linear_model import LogisticRegression\n",
        "\n",
        "# Initialize and train Logistic Regression model\n",
        "log_reg = LogisticRegression()\n",
        "log_reg.fit(X_train, y_train)"
      ]
    },
    {
      "cell_type": "code",
      "execution_count": null,
      "id": "d7534d10",
      "metadata": {
        "id": "d7534d10",
        "outputId": "92be585c-0ad1-4e8c-9dac-3833b9a951ca"
      },
      "outputs": [
        {
          "name": "stdout",
          "output_type": "stream",
          "text": [
            "Logistic Regression Performance:\n",
            "Accuracy: 0.9684\n",
            "Confusion Matrix:\n",
            " [[2421    0]\n",
            " [  79    0]]\n",
            "Classification Report:\n",
            "               precision    recall  f1-score   support\n",
            "\n",
            "           0       0.97      1.00      0.98      2421\n",
            "           1       0.00      0.00      0.00        79\n",
            "\n",
            "    accuracy                           0.97      2500\n",
            "   macro avg       0.48      0.50      0.49      2500\n",
            "weighted avg       0.94      0.97      0.95      2500\n",
            "\n"
          ]
        },
        {
          "name": "stderr",
          "output_type": "stream",
          "text": [
            "C:\\Users\\rashraf\\Anaconda3\\lib\\site-packages\\sklearn\\metrics\\_classification.py:1248: UndefinedMetricWarning: Precision and F-score are ill-defined and being set to 0.0 in labels with no predicted samples. Use `zero_division` parameter to control this behavior.\n",
            "  _warn_prf(average, modifier, msg_start, len(result))\n",
            "C:\\Users\\rashraf\\Anaconda3\\lib\\site-packages\\sklearn\\metrics\\_classification.py:1248: UndefinedMetricWarning: Precision and F-score are ill-defined and being set to 0.0 in labels with no predicted samples. Use `zero_division` parameter to control this behavior.\n",
            "  _warn_prf(average, modifier, msg_start, len(result))\n",
            "C:\\Users\\rashraf\\Anaconda3\\lib\\site-packages\\sklearn\\metrics\\_classification.py:1248: UndefinedMetricWarning: Precision and F-score are ill-defined and being set to 0.0 in labels with no predicted samples. Use `zero_division` parameter to control this behavior.\n",
            "  _warn_prf(average, modifier, msg_start, len(result))\n"
          ]
        }
      ],
      "source": [
        "from sklearn.metrics import accuracy_score, classification_report, confusion_matrix\n",
        "\n",
        "# Predict on test data\n",
        "y_pred_log = log_reg.predict(X_test)\n",
        "\n",
        "# Evaluate model\n",
        "print(\"Logistic Regression Performance:\")\n",
        "print(\"Accuracy:\", accuracy_score(y_test, y_pred_log))\n",
        "print(\"Confusion Matrix:\\n\", confusion_matrix(y_test, y_pred_log))\n",
        "print(\"Classification Report:\\n\", classification_report(y_test, y_pred_log))"
      ]
    },
    {
      "cell_type": "code",
      "execution_count": null,
      "id": "b2a061d4",
      "metadata": {
        "id": "b2a061d4",
        "outputId": "aea4b724-c13d-46d8-a92b-837dc351eff1"
      },
      "outputs": [
        {
          "name": "stderr",
          "output_type": "stream",
          "text": [
            "C:\\Users\\rashraf\\Anaconda3\\lib\\site-packages\\sklearn\\utils\\validation.py:63: DataConversionWarning: A column-vector y was passed when a 1d array was expected. Please change the shape of y to (n_samples, ), for example using ravel().\n",
            "  return f(*args, **kwargs)\n"
          ]
        },
        {
          "data": {
            "text/plain": [
              "LinearDiscriminantAnalysis()"
            ]
          },
          "execution_count": 34,
          "metadata": {},
          "output_type": "execute_result"
        }
      ],
      "source": [
        "from sklearn.discriminant_analysis import LinearDiscriminantAnalysis\n",
        "\n",
        "# Initialize and train LDA model\n",
        "lda = LinearDiscriminantAnalysis()\n",
        "lda.fit(X_train, y_train)"
      ]
    },
    {
      "cell_type": "code",
      "execution_count": null,
      "id": "bc468c63",
      "metadata": {
        "id": "bc468c63",
        "outputId": "9a5c2001-4a62-42b3-bd33-0d6e811806cf"
      },
      "outputs": [
        {
          "name": "stdout",
          "output_type": "stream",
          "text": [
            "LDA Performance:\n",
            "Accuracy: 0.9748\n",
            "Confusion Matrix:\n",
            " [[2415    6]\n",
            " [  57   22]]\n",
            "Classification Report:\n",
            "               precision    recall  f1-score   support\n",
            "\n",
            "           0       0.98      1.00      0.99      2421\n",
            "           1       0.79      0.28      0.41        79\n",
            "\n",
            "    accuracy                           0.97      2500\n",
            "   macro avg       0.88      0.64      0.70      2500\n",
            "weighted avg       0.97      0.97      0.97      2500\n",
            "\n"
          ]
        }
      ],
      "source": [
        "# Predict on test data\n",
        "y_pred_lda = lda.predict(X_test)\n",
        "\n",
        "# Evaluate model\n",
        "print(\"LDA Performance:\")\n",
        "print(\"Accuracy:\", accuracy_score(y_test, y_pred_lda))\n",
        "print(\"Confusion Matrix:\\n\", confusion_matrix(y_test, y_pred_lda))\n",
        "print(\"Classification Report:\\n\", classification_report(y_test, y_pred_lda))"
      ]
    },
    {
      "cell_type": "code",
      "execution_count": null,
      "id": "9f75e192",
      "metadata": {
        "id": "9f75e192",
        "outputId": "a9426eee-69ac-4646-e5dd-33ac6c97912f"
      },
      "outputs": [
        {
          "name": "stderr",
          "output_type": "stream",
          "text": [
            "C:\\Users\\rashraf\\Anaconda3\\lib\\site-packages\\sklearn\\utils\\validation.py:63: DataConversionWarning: A column-vector y was passed when a 1d array was expected. Please change the shape of y to (n_samples, ), for example using ravel().\n",
            "  return f(*args, **kwargs)\n"
          ]
        },
        {
          "data": {
            "text/plain": [
              "GaussianNB()"
            ]
          },
          "execution_count": 36,
          "metadata": {},
          "output_type": "execute_result"
        }
      ],
      "source": [
        "from sklearn.naive_bayes import GaussianNB\n",
        "\n",
        "# Initialize and train Naive Bayes model\n",
        "nb = GaussianNB()\n",
        "nb.fit(X_train, y_train)"
      ]
    },
    {
      "cell_type": "code",
      "execution_count": null,
      "id": "2ec7bf8c",
      "metadata": {
        "id": "2ec7bf8c",
        "outputId": "9063c282-bd37-4d95-b8c4-0b7628c1df10"
      },
      "outputs": [
        {
          "name": "stdout",
          "output_type": "stream",
          "text": [
            "Naive Bayes Performance:\n",
            "Accuracy: 0.974\n",
            "Confusion Matrix:\n",
            " [[2410   11]\n",
            " [  54   25]]\n",
            "Classification Report:\n",
            "               precision    recall  f1-score   support\n",
            "\n",
            "           0       0.98      1.00      0.99      2421\n",
            "           1       0.69      0.32      0.43        79\n",
            "\n",
            "    accuracy                           0.97      2500\n",
            "   macro avg       0.84      0.66      0.71      2500\n",
            "weighted avg       0.97      0.97      0.97      2500\n",
            "\n"
          ]
        }
      ],
      "source": [
        "# Predict on test data\n",
        "y_pred_nb = nb.predict(X_test)\n",
        "\n",
        "# Evaluate model\n",
        "print(\"Naive Bayes Performance:\")\n",
        "print(\"Accuracy:\", accuracy_score(y_test, y_pred_nb))\n",
        "print(\"Confusion Matrix:\\n\", confusion_matrix(y_test, y_pred_nb))\n",
        "print(\"Classification Report:\\n\", classification_report(y_test, y_pred_nb))"
      ]
    },
    {
      "cell_type": "code",
      "execution_count": null,
      "id": "f2b950e3",
      "metadata": {
        "id": "f2b950e3",
        "outputId": "1cc0178c-7386-408d-a7c6-d4e05defd198"
      },
      "outputs": [
        {
          "name": "stderr",
          "output_type": "stream",
          "text": [
            "C:\\Users\\rashraf\\Anaconda3\\lib\\site-packages\\sklearn\\neighbors\\_classification.py:179: DataConversionWarning: A column-vector y was passed when a 1d array was expected. Please change the shape of y to (n_samples,), for example using ravel().\n",
            "  return self._fit(X, y)\n"
          ]
        },
        {
          "data": {
            "text/plain": [
              "KNeighborsClassifier()"
            ]
          },
          "execution_count": 38,
          "metadata": {},
          "output_type": "execute_result"
        }
      ],
      "source": [
        "from sklearn.neighbors import KNeighborsClassifier\n",
        "\n",
        "# Initialize and train KNN model with 5 neighbors\n",
        "knn = KNeighborsClassifier(n_neighbors=5)\n",
        "knn.fit(X_train, y_train)"
      ]
    },
    {
      "cell_type": "code",
      "execution_count": null,
      "id": "06704871",
      "metadata": {
        "id": "06704871",
        "outputId": "1e863559-be37-4c46-ee73-bc0971f666f2"
      },
      "outputs": [
        {
          "name": "stdout",
          "output_type": "stream",
          "text": [
            "KNN Performance:\n",
            "Accuracy: 0.9692\n",
            "Confusion Matrix:\n",
            " [[2406   15]\n",
            " [  62   17]]\n",
            "Classification Report:\n",
            "               precision    recall  f1-score   support\n",
            "\n",
            "           0       0.97      0.99      0.98      2421\n",
            "           1       0.53      0.22      0.31        79\n",
            "\n",
            "    accuracy                           0.97      2500\n",
            "   macro avg       0.75      0.60      0.65      2500\n",
            "weighted avg       0.96      0.97      0.96      2500\n",
            "\n"
          ]
        }
      ],
      "source": [
        "y_pred_knn = knn.predict(X_test)\n",
        "\n",
        "# Evaluate model\n",
        "print(\"KNN Performance:\")\n",
        "print(\"Accuracy:\", accuracy_score(y_test, y_pred_knn))\n",
        "print(\"Confusion Matrix:\\n\", confusion_matrix(y_test, y_pred_knn))\n",
        "print(\"Classification Report:\\n\", classification_report(y_test, y_pred_knn))"
      ]
    },
    {
      "cell_type": "code",
      "execution_count": null,
      "id": "0430b554",
      "metadata": {
        "id": "0430b554",
        "outputId": "bba533b9-e33d-4423-a0c6-6228303d96f9"
      },
      "outputs": [
        {
          "name": "stdout",
          "output_type": "stream",
          "text": [
            "                 Model  Accuracy  Precision (Default=1)  Recall (Default=1)  \\\n",
            "0  Logistic Regression     0.973               0.724138            0.313433   \n",
            "1                  LDA     0.972               0.761905            0.238806   \n",
            "2          Naive Bayes     0.967               0.512821            0.298507   \n",
            "3                  KNN     0.968               0.542857            0.283582   \n",
            "\n",
            "   F1-Score (Default=1)  \n",
            "0              0.437500  \n",
            "1              0.363636  \n",
            "2              0.377358  \n",
            "3              0.372549  \n"
          ]
        },
        {
          "name": "stderr",
          "output_type": "stream",
          "text": [
            "C:\\Users\\rashraf\\Anaconda3\\lib\\site-packages\\pandas\\core\\frame.py:3678: SettingWithCopyWarning: \n",
            "A value is trying to be set on a copy of a slice from a DataFrame.\n",
            "Try using .loc[row_indexer,col_indexer] = value instead\n",
            "\n",
            "See the caveats in the documentation: https://pandas.pydata.org/pandas-docs/stable/user_guide/indexing.html#returning-a-view-versus-a-copy\n",
            "  self[col] = igetitem(value, i)\n",
            "C:\\Users\\rashraf\\Anaconda3\\lib\\site-packages\\pandas\\core\\frame.py:3678: SettingWithCopyWarning: \n",
            "A value is trying to be set on a copy of a slice from a DataFrame.\n",
            "Try using .loc[row_indexer,col_indexer] = value instead\n",
            "\n",
            "See the caveats in the documentation: https://pandas.pydata.org/pandas-docs/stable/user_guide/indexing.html#returning-a-view-versus-a-copy\n",
            "  self[col] = igetitem(value, i)\n"
          ]
        }
      ],
      "source": [
        "from sklearn.model_selection import train_test_split\n",
        "from sklearn.preprocessing import LabelEncoder, StandardScaler\n",
        "from sklearn.linear_model import LogisticRegression\n",
        "from sklearn.discriminant_analysis import LinearDiscriminantAnalysis\n",
        "from sklearn.naive_bayes import GaussianNB\n",
        "from sklearn.neighbors import KNeighborsClassifier\n",
        "from sklearn.metrics import accuracy_score, classification_report, confusion_matrix\n",
        "\n",
        "# Encode categorical variables\n",
        "df=d4\n",
        "label_enc = LabelEncoder()\n",
        "df['default'] = label_enc.fit_transform(df['default'])  # Convert 'No' to 0 and 'Yes' to 1\n",
        "df['student'] = label_enc.fit_transform(df['student'])  # Convert 'No' to 0 and 'Yes' to 1\n",
        "\n",
        "# Define features and target variable\n",
        "X = df[['student', 'balance', 'income']]\n",
        "y = df['default']\n",
        "\n",
        "# Split the dataset into training (80%) and testing (20%) sets\n",
        "X_train, X_test, y_train, y_test = train_test_split(X, y, test_size=0.2, random_state=42, stratify=y)\n",
        "\n",
        "# Standardize numerical features\n",
        "scaler = StandardScaler()\n",
        "X_train[['balance', 'income']] = scaler.fit_transform(X_train[['balance', 'income']])\n",
        "X_test[['balance', 'income']] = scaler.transform(X_test[['balance', 'income']])\n",
        "\n",
        "# Define models\n",
        "models = {\n",
        "    \"Logistic Regression\": LogisticRegression(),\n",
        "    \"LDA\": LinearDiscriminantAnalysis(),\n",
        "    \"Naive Bayes\": GaussianNB(),\n",
        "    \"KNN\": KNeighborsClassifier(n_neighbors=5)  # Default KNN with 5 neighbors\n",
        "}\n",
        "\n",
        "# Train models and evaluate on test set\n",
        "performance = {}\n",
        "\n",
        "for name, model in models.items():\n",
        "    # Train the model\n",
        "    model.fit(X_train, y_train)\n",
        "\n",
        "    # Predictions\n",
        "    y_pred = model.predict(X_test)\n",
        "\n",
        "    # Store performance metrics\n",
        "    performance[name] = {\n",
        "        \"Accuracy\": accuracy_score(y_test, y_pred),\n",
        "        \"Confusion Matrix\": confusion_matrix(y_test, y_pred),\n",
        "        \"Classification Report\": classification_report(y_test, y_pred, output_dict=True)\n",
        "    }\n",
        "\n",
        "# Create comparison dataframe\n",
        "comparison_data = {\n",
        "    \"Model\": [\"Logistic Regression\", \"LDA\", \"Naive Bayes\", \"KNN\"],\n",
        "    \"Accuracy\": [\n",
        "        performance[\"Logistic Regression\"][\"Accuracy\"],\n",
        "        performance[\"LDA\"][\"Accuracy\"],\n",
        "        performance[\"Naive Bayes\"][\"Accuracy\"],\n",
        "        performance[\"KNN\"][\"Accuracy\"]\n",
        "    ],\n",
        "    \"Precision (Default=1)\": [\n",
        "        performance[\"Logistic Regression\"][\"Classification Report\"][\"1\"][\"precision\"],\n",
        "        performance[\"LDA\"][\"Classification Report\"][\"1\"][\"precision\"],\n",
        "        performance[\"Naive Bayes\"][\"Classification Report\"][\"1\"][\"precision\"],\n",
        "        performance[\"KNN\"][\"Classification Report\"][\"1\"][\"precision\"]\n",
        "    ],\n",
        "    \"Recall (Default=1)\": [\n",
        "        performance[\"Logistic Regression\"][\"Classification Report\"][\"1\"][\"recall\"],\n",
        "        performance[\"LDA\"][\"Classification Report\"][\"1\"][\"recall\"],\n",
        "        performance[\"Naive Bayes\"][\"Classification Report\"][\"1\"][\"recall\"],\n",
        "        performance[\"KNN\"][\"Classification Report\"][\"1\"][\"recall\"]\n",
        "    ],\n",
        "    \"F1-Score (Default=1)\": [\n",
        "        performance[\"Logistic Regression\"][\"Classification Report\"][\"1\"][\"f1-score\"],\n",
        "        performance[\"LDA\"][\"Classification Report\"][\"1\"][\"f1-score\"],\n",
        "        performance[\"Naive Bayes\"][\"Classification Report\"][\"1\"][\"f1-score\"],\n",
        "        performance[\"KNN\"][\"Classification Report\"][\"1\"][\"f1-score\"]\n",
        "    ]\n",
        "}\n",
        "\n",
        "# Convert to DataFrame\n",
        "comparison_df = pd.DataFrame(comparison_data)\n",
        "\n",
        "# Display results\n",
        "print(comparison_df)  # Print comparison table"
      ]
    },
    {
      "cell_type": "code",
      "execution_count": null,
      "id": "b30858c2",
      "metadata": {
        "id": "b30858c2"
      },
      "outputs": [],
      "source": []
    },
    {
      "cell_type": "code",
      "execution_count": null,
      "id": "9a3260dd",
      "metadata": {
        "id": "9a3260dd"
      },
      "outputs": [],
      "source": []
    }
  ],
  "metadata": {
    "kernelspec": {
      "display_name": "Python [conda env:base] *",
      "language": "python",
      "name": "conda-base-py"
    },
    "language_info": {
      "codemirror_mode": {
        "name": "ipython",
        "version": 3
      },
      "file_extension": ".py",
      "mimetype": "text/x-python",
      "name": "python",
      "nbconvert_exporter": "python",
      "pygments_lexer": "ipython3",
      "version": "3.12.7"
    },
    "colab": {
      "provenance": []
    }
  },
  "nbformat": 4,
  "nbformat_minor": 5
}